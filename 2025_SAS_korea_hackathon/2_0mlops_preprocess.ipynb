{
 "cells": [
  {
   "cell_type": "code",
   "execution_count": 86,
   "id": "719667ad-eb63-4e78-a619-00b93692dfef",
   "metadata": {},
   "outputs": [],
   "source": [
    "# 데이터 처리 및 분석\n",
    "import numpy as np\n",
    "import pandas as pd"
   ]
  },
  {
   "cell_type": "code",
   "execution_count": 88,
   "id": "43a38f25-ce3e-4f4c-9a1f-50a91d434e33",
   "metadata": {},
   "outputs": [],
   "source": [
    "# nullcheck def\n",
    "def null_check(df, df2):\n",
    "    print(df.isnull().sum().sort_values(ascending=False).loc[lambda x: x > 0])\n",
    "    print(df2.isnull().sum().sort_values(ascending=False).loc[lambda x: x > 0])"
   ]
  },
  {
   "cell_type": "code",
   "execution_count": 108,
   "id": "a1e3ef4d-ac42-43f2-9b56-9d6d6e6d684e",
   "metadata": {},
   "outputs": [],
   "source": [
    "# # 데이터 불러오기\n",
    "# train_df = pd.read_excel('./data3/3_train.xlsx')\n",
    "# test_df  = pd.read_excel('./data3/3_test.xlsx')\n",
    "sequence = 3\n",
    "train_df = pd.read_csv(f'./data3/{sequence}_train.csv')\n",
    "test_df  = pd.read_csv(f'./data3/{sequence}_test.csv')\n",
    "# train_df = pd.read_excel(f'./data3/{sequence}_train.xlsx')\n",
    "# test_df  = pd.read_excel(f'./data3/{sequence}_test.xlsx')"
   ]
  },
  {
   "cell_type": "code",
   "execution_count": 109,
   "id": "ab7861c8-7c16-482c-8275-86916857056b",
   "metadata": {},
   "outputs": [
    {
     "name": "stdout",
     "output_type": "stream",
     "text": [
      "적설_cm_ratio3h       82490\n",
      "강수량_mm_ratio3h      79260\n",
      "일조_hr_ratio3h       50030\n",
      "일사_MJ_m2_ratio3h    34390\n",
      "승하차수_최근3시간비율         8874\n",
      "                    ...  \n",
      "이슬점온도_C_lag1           10\n",
      "습도_lag1                10\n",
      "풍속_m_s_lag1            10\n",
      "강수량_mm_lag1            10\n",
      "증기압_hPa_lag1           10\n",
      "Length: 109, dtype: int64\n",
      "적설_cm_ratio3h       20972\n",
      "강수량_mm_ratio3h      18813\n",
      "일조_hr_ratio3h       12308\n",
      "일사_MJ_m2_ratio3h     8364\n",
      "승하차최근3h증감            1816\n",
      "                    ...  \n",
      "증기압_hPa_lag1            2\n",
      "풍속_m_s_lag1             2\n",
      "강수량_mm_lag1             2\n",
      "기온_C_lag1               2\n",
      "습도_lag1                 2\n",
      "Length: 108, dtype: int64\n"
     ]
    }
   ],
   "source": [
    "null_check(train_df, test_df)"
   ]
  },
  {
   "cell_type": "code",
   "execution_count": 112,
   "id": "eb15f088-a5e9-48c0-888f-99287a63b21b",
   "metadata": {},
   "outputs": [],
   "source": [
    "# train 공기질 드랍\n",
    "train_df = train_df.dropna(subset=['공기질'])"
   ]
  },
  {
   "cell_type": "code",
   "execution_count": 114,
   "id": "66123b55-91dc-48af-ab88-6936b160445d",
   "metadata": {},
   "outputs": [],
   "source": [
    "test_df = test_df.fillna(0)"
   ]
  },
  {
   "cell_type": "code",
   "execution_count": 116,
   "id": "8c517f05-bcf5-49e3-bd99-c3c1962a1ee9",
   "metadata": {},
   "outputs": [],
   "source": [
    "train_df.to_csv(f'./data3/{sequence}_train_done.csv', encoding='cp949', index=False)\n",
    "test_df .to_csv(f'./data3/{sequence}_test_done.csv', encoding='cp949', index=False)"
   ]
  },
  {
   "cell_type": "code",
   "execution_count": null,
   "id": "bb326b59-1153-4792-b756-254f6bccf75e",
   "metadata": {},
   "outputs": [],
   "source": []
  }
 ],
 "metadata": {
  "kernelspec": {
   "display_name": "Python [conda env:bibiml]",
   "language": "python",
   "name": "conda-env-bibiml-py"
  },
  "language_info": {
   "codemirror_mode": {
    "name": "ipython",
    "version": 3
   },
   "file_extension": ".py",
   "mimetype": "text/x-python",
   "name": "python",
   "nbconvert_exporter": "python",
   "pygments_lexer": "ipython3",
   "version": "3.11.11"
  }
 },
 "nbformat": 4,
 "nbformat_minor": 5
}
