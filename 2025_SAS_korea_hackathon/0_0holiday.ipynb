{
 "cells": [
  {
   "cell_type": "code",
   "execution_count": 1,
   "id": "2d56599f",
   "metadata": {},
   "outputs": [
    {
     "name": "stdout",
     "output_type": "stream",
     "text": [
      "Collecting holidayskr\n",
      "  Downloading holidayskr-0.2.0-py3-none-any.whl.metadata (7.2 kB)\n",
      "Collecting korean-lunar-calendar>=0.2.1 (from holidayskr)\n",
      "  Downloading korean_lunar_calendar-0.3.1-py3-none-any.whl.metadata (2.8 kB)\n",
      "Requirement already satisfied: requests>=2.0.0 in c:\\users\\pooko\\anaconda3\\envs\\bibiml\\lib\\site-packages (from holidayskr) (2.32.3)\n",
      "Requirement already satisfied: charset_normalizer<4,>=2 in c:\\users\\pooko\\anaconda3\\envs\\bibiml\\lib\\site-packages (from requests>=2.0.0->holidayskr) (3.4.1)\n",
      "Requirement already satisfied: idna<4,>=2.5 in c:\\users\\pooko\\anaconda3\\envs\\bibiml\\lib\\site-packages (from requests>=2.0.0->holidayskr) (3.10)\n",
      "Requirement already satisfied: urllib3<3,>=1.21.1 in c:\\users\\pooko\\anaconda3\\envs\\bibiml\\lib\\site-packages (from requests>=2.0.0->holidayskr) (2.3.0)\n",
      "Requirement already satisfied: certifi>=2017.4.17 in c:\\users\\pooko\\anaconda3\\envs\\bibiml\\lib\\site-packages (from requests>=2.0.0->holidayskr) (2025.1.31)\n",
      "Downloading holidayskr-0.2.0-py3-none-any.whl (8.0 kB)\n",
      "Downloading korean_lunar_calendar-0.3.1-py3-none-any.whl (9.0 kB)\n",
      "Installing collected packages: korean-lunar-calendar, holidayskr\n",
      "Successfully installed holidayskr-0.2.0 korean-lunar-calendar-0.3.1\n"
     ]
    }
   ],
   "source": [
    "!pip install holidayskr"
   ]
  },
  {
   "cell_type": "code",
   "execution_count": 4,
   "id": "b7b6e5e0",
   "metadata": {},
   "outputs": [],
   "source": [
    "from holidayskr import year_holidays"
   ]
  },
  {
   "cell_type": "code",
   "execution_count": 46,
   "id": "56c39343",
   "metadata": {},
   "outputs": [],
   "source": [
    "import holidayskr as ho\n",
    "import datetime\n",
    "import pandas as pd"
   ]
  },
  {
   "cell_type": "code",
   "execution_count": 51,
   "id": "c98e98bb",
   "metadata": {},
   "outputs": [
    {
     "data": {
      "text/plain": [
       "[(datetime.date(2022, 1, 1), '신정'),\n",
       " (datetime.date(2022, 1, 31), '설날 전날'),\n",
       " (datetime.date(2022, 2, 1), '설날'),\n",
       " (datetime.date(2022, 2, 2), '설날 다음날'),\n",
       " (datetime.date(2022, 3, 1), '3·1절'),\n",
       " (datetime.date(2022, 5, 1), '근로자의 날'),\n",
       " (datetime.date(2022, 5, 5), '어린이날'),\n",
       " (datetime.date(2022, 5, 8), '석가탄신일'),\n",
       " (datetime.date(2022, 6, 6), '현충일'),\n",
       " (datetime.date(2022, 8, 15), '광복절'),\n",
       " (datetime.date(2022, 9, 9), '추석 전날'),\n",
       " (datetime.date(2022, 9, 10), '추석'),\n",
       " (datetime.date(2022, 9, 11), '추석 다음날'),\n",
       " (datetime.date(2022, 10, 3), '개천절'),\n",
       " (datetime.date(2022, 10, 9), '한글날'),\n",
       " (datetime.date(2022, 12, 25), '크리스마스'),\n",
       " (datetime.date(2022, 3, 9), '대통령선거'),\n",
       " (datetime.date(2022, 6, 1), '지방선거'),\n",
       " (datetime.date(2022, 9, 12), '추석대체'),\n",
       " (datetime.date(2022, 10, 10), '한글대체')]"
      ]
     },
     "execution_count": 51,
     "metadata": {},
     "output_type": "execute_result"
    }
   ],
   "source": [
    "holi_2022 = ho.year_holidays(2022)\n",
    "holi_2022.append((datetime.date(2022, 3, 9), '대통령선거'))\n",
    "holi_2022.append((datetime.date(2022, 6, 1), '지방선거'))\n",
    "holi_2022.append((datetime.date(2022, 9, 12), '추석대체'))\n",
    "holi_2022.append((datetime.date(2022, 10, 10), '한글대체'))\n",
    "holi_2022"
   ]
  },
  {
   "cell_type": "code",
   "execution_count": 77,
   "id": "cb138e94",
   "metadata": {},
   "outputs": [
    {
     "data": {
      "text/plain": [
       "[(datetime.date(2023, 1, 1), '신정'),\n",
       " (datetime.date(2023, 1, 21), '설날 전날'),\n",
       " (datetime.date(2023, 1, 22), '설날'),\n",
       " (datetime.date(2023, 1, 23), '설날 다음날'),\n",
       " (datetime.date(2023, 3, 1), '3·1절'),\n",
       " (datetime.date(2023, 5, 1), '근로자의 날'),\n",
       " (datetime.date(2023, 5, 5), '어린이날'),\n",
       " (datetime.date(2023, 5, 27), '석가탄신일'),\n",
       " (datetime.date(2023, 6, 6), '현충일'),\n",
       " (datetime.date(2023, 8, 15), '광복절'),\n",
       " (datetime.date(2023, 9, 28), '추석 전날'),\n",
       " (datetime.date(2023, 9, 29), '추석'),\n",
       " (datetime.date(2023, 9, 30), '추석 다음날'),\n",
       " (datetime.date(2023, 10, 3), '개천절'),\n",
       " (datetime.date(2023, 10, 9), '한글날'),\n",
       " (datetime.date(2023, 12, 25), '크리스마스'),\n",
       " (datetime.date(2023, 1, 24), '대체설날'),\n",
       " (datetime.date(2023, 5, 29), '석가탄신일_대체')]"
      ]
     },
     "execution_count": 77,
     "metadata": {},
     "output_type": "execute_result"
    }
   ],
   "source": [
    "holi_2023 = ho.year_holidays(2023)\n",
    "holi_2023.append((datetime.date(2023, 1, 24), '대체설날'))\n",
    "holi_2023.append((datetime.date(2023, 5, 29), '석가탄신일_대체'))\n",
    "\n",
    "holi_2023"
   ]
  },
  {
   "cell_type": "code",
   "execution_count": null,
   "id": "7e1589d4",
   "metadata": {},
   "outputs": [],
   "source": [
    "holi_2022 = pd.DataFrame(holi_2022)\n",
    "holi_2023 = pd.DataFrame(holi_2023)\n",
    "df = pd.concat([holi_2022, holi_2023])\n",
    "df = df.rename(columns={0:'date',1:'day_name'}).sort_values(by='date').reset_index().drop(columns='index')"
   ]
  },
  {
   "cell_type": "code",
   "execution_count": 85,
   "id": "c0748911",
   "metadata": {},
   "outputs": [],
   "source": [
    "df.to_csv('./data2/holidays.csv', index=False)"
   ]
  }
 ],
 "metadata": {
  "kernelspec": {
   "display_name": "bibiml",
   "language": "python",
   "name": "python3"
  },
  "language_info": {
   "codemirror_mode": {
    "name": "ipython",
    "version": 3
   },
   "file_extension": ".py",
   "mimetype": "text/x-python",
   "name": "python",
   "nbconvert_exporter": "python",
   "pygments_lexer": "ipython3",
   "version": "3.11.11"
  }
 },
 "nbformat": 4,
 "nbformat_minor": 5
}
